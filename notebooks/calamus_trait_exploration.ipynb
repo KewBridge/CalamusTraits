{
  "nbformat": 4,
  "nbformat_minor": 0,
  "metadata": {
    "colab": {
      "provenance": []
    },
    "kernelspec": {
      "name": "python3",
      "display_name": "Python 3"
    },
    "language_info": {
      "name": "python"
    }
  },
  "cells": [
    {
      "cell_type": "code",
      "execution_count": null,
      "metadata": {
        "id": "tqMW0S0Byh4H"
      },
      "outputs": [],
      "source": []
    },
    {
      "cell_type": "markdown",
      "source": [
        "# Exploring Calamus trait data and published descriptions\n",
        "\n",
        "This first code block reads in the spreadsheet of trait data and prints it"
      ],
      "metadata": {
        "id": "OVT-tXeMyign"
      }
    },
    {
      "cell_type": "code",
      "source": [
        "import pandas as pd\n",
        "data_file_url=\"https://github.com/KewBridge/CalamusTraits/raw/refs/heads/main/resources/Ceratolobus.xlsx\"\n",
        "df =pd.read_excel(data_file_url)\n",
        "print(df.head())"
      ],
      "metadata": {
        "colab": {
          "base_uri": "https://localhost:8080/"
        },
        "id": "rdkH_E3MyqGG",
        "outputId": "68c3e07b-cc0a-4beb-810e-db91a9ce66a4"
      },
      "execution_count": 4,
      "outputs": [
        {
          "output_type": "stream",
          "name": "stdout",
          "text": [
            "         Species  Subspecies   Preliminary      Collector  Colnumber  \\\n",
            "0    C. concolor         NaN  Ce. concolor           Anon       s.n.   \n",
            "1    C. concolor         NaN  Ce. concolor  J. Dransfield       4160   \n",
            "2    C. concolor         NaN  Ce. concolor     O. Beccari        525   \n",
            "3    C. concolor         NaN  Ce. concolor    P. Korthals       s.n.   \n",
            "4  C. disjunctus         NaN  Ce. concolor        A. Abas  SAN 86044   \n",
            "\n",
            "  Herbarium        Group    Country     Area      Status  ...  Fringe  Seeded  \\\n",
            "0         L  Ceratolobus  Indonesia  Sumatra  pistillate  ...     2.0     0.0   \n",
            "1        BO  Ceratolobus  Indonesia  Sumatra           ?  ...     NaN     NaN   \n",
            "2        FI  Ceratolobus  Indonesia  Sumatra     sterile  ...     NaN     NaN   \n",
            "3         L  Ceratolobus  Indonesia  Sumatra  pistillate  ...     2.0     0.0   \n",
            "4         K  Ceratolobus   Malaysia   Borneo  pistillate  ...     2.0     0.0   \n",
            "\n",
            "   Attach  Renifo  Seedsu  Sarcot  Raphe  Endosp  Embryo    Frucol  \n",
            "0     1.0     0.0     0.0     2.0    1.0     1.0     0.0       NaN  \n",
            "1     NaN     NaN     NaN     NaN    NaN     NaN     NaN       NaN  \n",
            "2     NaN     NaN     NaN     NaN    NaN     NaN     NaN       NaN  \n",
            "3     1.0     0.0     0.0     2.0    1.0     1.0     0.0       NaN  \n",
            "4     1.0     0.0     0.0     2.0    1.0     1.0     0.0  brownish  \n",
            "\n",
            "[5 rows x 187 columns]\n"
          ]
        }
      ]
    }
  ]
}