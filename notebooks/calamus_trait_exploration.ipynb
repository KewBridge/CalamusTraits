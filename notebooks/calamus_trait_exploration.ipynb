{
  "nbformat": 4,
  "nbformat_minor": 0,
  "metadata": {
    "colab": {
      "provenance": []
    },
    "kernelspec": {
      "name": "python3",
      "display_name": "Python 3"
    },
    "language_info": {
      "name": "python"
    }
  },
  "cells": [
    {
      "cell_type": "code",
      "execution_count": null,
      "metadata": {
        "id": "tqMW0S0Byh4H"
      },
      "outputs": [],
      "source": []
    },
    {
      "cell_type": "markdown",
      "source": [
        "# Exploring Calamus trait data and published descriptions\n",
        "\n",
        "This first code block reads in the spreadsheet of trait data and prints it"
      ],
      "metadata": {
        "id": "OVT-tXeMyign"
      }
    },
    {
      "cell_type": "code",
      "source": [
        "import pandas as pd\n",
        "data_file_url=\"https://github.com/KewBridge/CalamusTraits/raw/refs/heads/main/resources/Ceratolobus.xlsx\"\n",
        "df =pd.read_excel(data_file_url)\n",
        "print(df.head())"
      ],
      "metadata": {
        "colab": {
          "base_uri": "https://localhost:8080/"
        },
        "id": "rdkH_E3MyqGG",
        "outputId": "cf602569-2900-4115-9e98-8803ac4cea34"
      },
      "execution_count": 1,
      "outputs": [
        {
          "output_type": "stream",
          "name": "stdout",
          "text": [
            "         Species  Subspecies   Preliminary      Collector  Colnumber  \\\n",
            "0    C. concolor         NaN  Ce. concolor           Anon       s.n.   \n",
            "1    C. concolor         NaN  Ce. concolor  J. Dransfield       4160   \n",
            "2    C. concolor         NaN  Ce. concolor     O. Beccari        525   \n",
            "3    C. concolor         NaN  Ce. concolor    P. Korthals       s.n.   \n",
            "4  C. disjunctus         NaN  Ce. concolor        A. Abas  SAN 86044   \n",
            "\n",
            "  Herbarium        Group    Country     Area      Status  ...  Fringe  Seeded  \\\n",
            "0         L  Ceratolobus  Indonesia  Sumatra  pistillate  ...     2.0     0.0   \n",
            "1        BO  Ceratolobus  Indonesia  Sumatra           ?  ...     NaN     NaN   \n",
            "2        FI  Ceratolobus  Indonesia  Sumatra     sterile  ...     NaN     NaN   \n",
            "3         L  Ceratolobus  Indonesia  Sumatra  pistillate  ...     2.0     0.0   \n",
            "4         K  Ceratolobus   Malaysia   Borneo  pistillate  ...     2.0     0.0   \n",
            "\n",
            "   Attach  Renifo  Seedsu  Sarcot  Raphe  Endosp  Embryo    Frucol  \n",
            "0     1.0     0.0     0.0     2.0    1.0     1.0     0.0       NaN  \n",
            "1     NaN     NaN     NaN     NaN    NaN     NaN     NaN       NaN  \n",
            "2     NaN     NaN     NaN     NaN    NaN     NaN     NaN       NaN  \n",
            "3     1.0     0.0     0.0     2.0    1.0     1.0     0.0       NaN  \n",
            "4     1.0     0.0     0.0     2.0    1.0     1.0     0.0  brownish  \n",
            "\n",
            "[5 rows x 187 columns]\n"
          ]
        }
      ]
    },
    {
      "cell_type": "code",
      "source": [
        "appendix_1 = \"\"\"1. Stem length (m); data taken from specimen labels. (stemlength)\n",
        "2. Stem diameter (cm); data taken from specimens, with sheaths. (stemdiameter)\n",
        "3. Petiole length (cm); data taken from specimens or specimen labels. (petiole)\n",
        "4. Rachis length (cm); data taken from specimens or specimen labels, not including cirrus on cirrate leaves. (rachislen)\n",
        "5. Number of pinnae per side of rachis; data taken from specimens or specimen labels. (numpin)\n",
        "6. Middle pinna length (cm); data taken from specimens. (pinlength)\n",
        "7. Middle pinna width at mid-point (cm); data taken from specimens. (pinwidth)\n",
        "8. Distal pair of pinnae joined at their bases (cm); data taken from specimens. (apjoin)\n",
        "9. Staminate inflorescence length (cm); data taken from specimens or specimen labels. (stinflolen)\n",
        "10. Staminate rachilla length, proximalmost one (cm); data taken from specimens. (straclen)\n",
        "11. Pistillate inflorescence length (cm); data taken from specimens or specimen labels. (pisinflolen)\n",
        "12. Pistillate rachilla length, proximalmost one (cm); data taken from specimens. (psraclen)\n",
        "13. Fruit length (mm); data taken from specimens and includes persistent perianth. (fruitlen). Fruit length includes the fruiting perianth (and for this reason fruit length often appears longer than width in fruits scored as globose).\n",
        "14. Fruit diameter (mm); data taken from specimens. (fruitdiam)\"\"\"\n",
        "print(appendix_1)"
      ],
      "metadata": {
        "colab": {
          "base_uri": "https://localhost:8080/"
        },
        "id": "N7QxApuejIV2",
        "outputId": "b5a8c4a2-8c28-4653-8ac2-1256439bebea"
      },
      "execution_count": 4,
      "outputs": [
        {
          "output_type": "stream",
          "name": "stdout",
          "text": [
            "1. Stem length (m); data taken from specimen labels. (stemlength)\n",
            "2. Stem diameter (cm); data taken from specimens, with sheaths. (stemdiameter)\n",
            "3. Petiole length (cm); data taken from specimens or specimen labels. (petiole)\n",
            "4. Rachis length (cm); data taken from specimens or specimen labels, not including cirrus on cirrate leaves. (rachislen)\n",
            "5. Number of pinnae per side of rachis; data taken from specimens or specimen labels. (numpin)\n",
            "6. Middle pinna length (cm); data taken from specimens. (pinlength)\n",
            "7. Middle pinna width at mid-point (cm); data taken from specimens. (pinwidth)\n",
            "8. Distal pair of pinnae joined at their bases (cm); data taken from specimens. (apjoin)\n",
            "9. Staminate inflorescence length (cm); data taken from specimens or specimen labels. (stinflolen)\n",
            "10. Staminate rachilla length, proximalmost one (cm); data taken from specimens. (straclen)\n",
            "11. Pistillate inflorescence length (cm); data taken from specimens or specimen labels. (pisinflolen)\n",
            "12. Pistillate rachilla length, proximalmost one (cm); data taken from specimens. (psraclen)\n",
            "13. Fruit length (mm); data taken from specimens and includes persistent perianth. (fruitlen). Fruit length includes the fruiting perianth (and for this reason fruit length often appears longer than width in fruits scored as globose).\n",
            "14. Fruit diameter (mm); data taken from specimens. (fruitdiam)\n"
          ]
        }
      ]
    },
    {
      "cell_type": "code",
      "source": [
        "app1_lines = appendix_1.split(\"\\n\")\n",
        "print(app1_lines)"
      ],
      "metadata": {
        "colab": {
          "base_uri": "https://localhost:8080/"
        },
        "id": "pIvFeeqEjnUc",
        "outputId": "94e92bea-27e0-4aab-895d-c0932cfef0b8"
      },
      "execution_count": 9,
      "outputs": [
        {
          "output_type": "stream",
          "name": "stdout",
          "text": [
            "['1. Stem length (m); data taken from specimen labels. (stemlength)', '2. Stem diameter (cm); data taken from specimens, with sheaths. (stemdiameter)', '3. Petiole length (cm); data taken from specimens or specimen labels. (petiole)', '4. Rachis length (cm); data taken from specimens or specimen labels, not including cirrus on cirrate leaves. (rachislen)', '5. Number of pinnae per side of rachis; data taken from specimens or specimen labels. (numpin)', '6. Middle pinna length (cm); data taken from specimens. (pinlength)', '7. Middle pinna width at mid-point (cm); data taken from specimens. (pinwidth)', '8. Distal pair of pinnae joined at their bases (cm); data taken from specimens. (apjoin)', '9. Staminate inflorescence length (cm); data taken from specimens or specimen labels. (stinflolen)', '10. Staminate rachilla length, proximalmost one (cm); data taken from specimens. (straclen)', '11. Pistillate inflorescence length (cm); data taken from specimens or specimen labels. (pisinflolen)', '12. Pistillate rachilla length, proximalmost one (cm); data taken from specimens. (psraclen)', '13. Fruit length (mm); data taken from specimens and includes persistent perianth. (fruitlen). Fruit length includes the fruiting perianth (and for this reason fruit length often appears longer than width in fruits scored as globose).', '14. Fruit diameter (mm); data taken from specimens. (fruitdiam)']\n"
          ]
        }
      ]
    },
    {
      "cell_type": "code",
      "source": [
        "import re\n",
        "pattern = r\"(?P<number>\\d+)\\.\\s*(?P<description>.*?)\\((?P<column_header>[^)]+)\\)$\"\n",
        "\n",
        "column_metadata = dict()\n",
        "\n",
        "for line in app1_lines:\n",
        "    match = re.match(pattern, line)\n",
        "    if match:\n",
        "        number = match.group(\"number\")\n",
        "        description = match.group(\"description\").strip()\n",
        "        column_header = match.group(\"column_header\").strip()\n",
        "        column_metadata[column_header] = description\n",
        "\n",
        "print(column_metadata)"
      ],
      "metadata": {
        "colab": {
          "base_uri": "https://localhost:8080/"
        },
        "id": "_X-HwUjWkVHa",
        "outputId": "b595360b-8d6f-4a49-c7ac-3a60ad75210c"
      },
      "execution_count": 17,
      "outputs": [
        {
          "output_type": "stream",
          "name": "stdout",
          "text": [
            "{'stemlength': 'Stem length (m); data taken from specimen labels.', 'stemdiameter': 'Stem diameter (cm); data taken from specimens, with sheaths.', 'petiole': 'Petiole length (cm); data taken from specimens or specimen labels.', 'rachislen': 'Rachis length (cm); data taken from specimens or specimen labels, not including cirrus on cirrate leaves.', 'numpin': 'Number of pinnae per side of rachis; data taken from specimens or specimen labels.', 'pinlength': 'Middle pinna length (cm); data taken from specimens.', 'pinwidth': 'Middle pinna width at mid-point (cm); data taken from specimens.', 'apjoin': 'Distal pair of pinnae joined at their bases (cm); data taken from specimens.', 'stinflolen': 'Staminate inflorescence length (cm); data taken from specimens or specimen labels.', 'straclen': 'Staminate rachilla length, proximalmost one (cm); data taken from specimens.', 'pisinflolen': 'Pistillate inflorescence length (cm); data taken from specimens or specimen labels.', 'psraclen': 'Pistillate rachilla length, proximalmost one (cm); data taken from specimens.', 'fruitdiam': 'Fruit diameter (mm); data taken from specimens.'}\n"
          ]
        }
      ]
    },
    {
      "cell_type": "code",
      "source": [
        "print(df.columns)\n",
        "\n",
        "print([column_header for column_header in df.columns.to_list() if column_header.lower() in column_metadata.keys()])\n"
      ],
      "metadata": {
        "colab": {
          "base_uri": "https://localhost:8080/"
        },
        "id": "7udu4cgppCjw",
        "outputId": "cf25a75e-52cb-4bb5-b134-88f071bc8fa8"
      },
      "execution_count": 24,
      "outputs": [
        {
          "output_type": "stream",
          "name": "stdout",
          "text": [
            "Index(['Species', 'Subspecies', 'Preliminary', 'Collector', 'Colnumber',\n",
            "       'Herbarium', 'Group', 'Country', 'Area', 'Status',\n",
            "       ...\n",
            "       'Fringe', 'Seeded', 'Attach', 'Renifo', 'Seedsu', 'Sarcot', 'Raphe',\n",
            "       'Endosp', 'Embryo', 'Frucol'],\n",
            "      dtype='object', length=187)\n",
            "['Stemlength', 'Stemdiameter', 'Petiole', 'Rachislen', 'Numpin', 'Pinlength', 'Pinwidth', 'Apjoin', 'Stinflolen', 'Straclen', 'Pisinflolen', 'Psraclen', 'Fruitdiam']\n"
          ]
        }
      ]
    },
    {
      "cell_type": "code",
      "source": [
        "appendix_2 = \"\"\"1. Stems solitary (0); stems clustered (1). (solclu)\n",
        "2. Stems non-climbing, erect or creeping, sometimes short and subterranean, sometimes weakly climbing (0); stems climbing (1). (climbs)\n",
        "3. Leaf sheaths tubular, closed opposite the petiole, usually with a knee below the petiole (0); leaf sheaths not tubular, open opposite the petiole, usually without a knee (1); leaf sheaths tubular, closed opposite the petiole, without a knee below the petiole (2). (sheath)\n",
        "4. Leaf sheaths mottled with irregular bands of tomentum (0); leaf sheaths covered with dense, dark brown, reddishbrown, or gray, persistent tomentum (1); leaf sheaths mottled but not tomentose (2); leaf sheaths covered with dense, flat, black scales (3); leaf sheaths not mottled nor with persistent tomentum nor with black scales (4). (mottle)\n",
        "5. Leaf sheath spines slender to stout, triangular, concave at the base proximally, horizontally spreading or downward pointing, scattered to dense, rarely in horizontal rows, yellowish-brown to dark brown (0); leaf sheath spines short to long, triangular, concave at the base proximally, usually horizontally spreading, scattered to dense, yellowish-brown to dark brown, slightly swollen-based or with an adjacent swelling (1); leaf sheath spines not as above (2). (dactyl)\n",
        "6. Leaf sheath spines usually long, triangular, scarcely concave at the base proximally, usually horizontally spreading, sometimes upward-pointing, scattered to dense, laminar, elastic, black or dark brown (0); leaf sheath spines not as above (1). (elasti)\n",
        "7. Leaf sheath spines well-developed, triangular, often downward pointing, swollen at the base distally, scattered to dense, brownish, often black-tipped, sometimes with shorter spines interspersed (0); leaf sheath spines not as above (1). (latifo)\n",
        "8. Leaf sheath spines short, triangular, horizontal, tending to be in horizontal rows but spines not joined to one another in a row, yellowish-brown (0); leaf sheaths spines not as above (1). (hetera)\n",
        "9. Leaf sheath spines short to elongate, narrowly triangular, horizontal or often curved, scattered to dense, scarcely concave at the base proximally, leaving a distinct impression in the sheath, rarely with multiple splits at the apex, yellowish-brown or dark brown (0); leaf sheath spines not as above (1). (unifar)\n",
        "10. Leaf sheath spines scattered to dense, flattened, at least some laciniate (0); leaf sheath spines not as above (1). (dasyac)\n",
        "11. Leaf sheath spines elongate, needle-like, densely arranged, sometimes borne in horizontal rows, horizontal or erect, black or brown (0); leaf sheath spines not as above (1). (discol)\n",
        "12. Leaf sheath spines narrowly triangular, horizontal, rarely upward-pointing, short, scattered to dense, rarely in horizontal rows, dark brown or black, often black-tipped (0); leaf sheath spines not as above (1). (phispi)\n",
        "13. Leaf sheath spines few, scattered, shortly recurved on a swollen base, sometimes swellings only, not leaving a distal impression in the sheath (0); leaf sheath spines not as above (1). (bulbou)\n",
        "14. Leaf sheath spines short, scattered, usually upward-pointing, borne proximally on an ellipsoid swelling, blacktipped (0); leaf sheath spines not as above (1). (swelli)\n",
        "15. Leaf sheath spines short, scattered, sometimes upward-pointing, with a distinct swelling at the base adaxially (0); leaf sheath spines not as above (1). (gracil)\n",
        "16. Leaf sheath spines short, straight (rarely wavy), very fine and needle-like, sometimes in short, horizontal rows, brownish, early deciduous, often denser and erect at sheath apex, sometimes other kinds of spines interspersed (0); leaf sheath spines not as above (1). (needle)\n",
        "17. Leaf sheath spines short to elongate, narrowly triangular, not concave at the base proximally, scattered to dense, yellowish or brownish throughout (0); leaf sheath spines not as above (1). (pholid)\n",
        "18. Leaf sheath spines narrow, yellowish-brown, sometimes in short, horizontal rows below the petiole, not concave basally but often with an abaxial concavity for up to half their length, those along distal sheath and petiole margins longer than others, almost regularly arranged, sometimes interspersed with reddish-brown, papery spines (0); leaf sheath spines not as above (1). (petmar)\n",
        "19. Leaf sheath spines short, triangular, concave at the base proximally, upward-pointing, often lying almost flat against the sheath, yellowish-brown to dark brown (0); leaf sheath spines not as above (1). (upward)\n",
        "20. Leaf sheath spines minute, in partial, horizontal or oblique combs of spines at apex of sheath only, rarely extending proximally on sheath, usually some longer spines also present (0); leaf sheath spines not as above (1). (pachys)\n",
        "21. Leaf sheath spines flattened, triangular, horizontal or often upward pointing, with more or less persistent, long, black hairs on margins, often horizontal ridges or rows of short spines also present (0); leaf sheaths not as above (1). (hairli)\n",
        "22. Leaf sheath spines dense, minute, giving a rough feel to the surface of the sheath, usually with longer spines present (0); leaf sheath spines not as above (1). (scabrid)\n",
        "23. Leaf sheath spines few or absent, the sheaths densely covered with short, bulbous-based hairs, giving a rough feel to the surface of the sheath (0); leaf sheath spines few or absent, the sheaths densely covered with long, bulbous-based hairs, giving a soft feel to the surface of the sheath (1); leaf sheath spines few to numerous, with few to numerous short, bulbous-based spines also present, often in short, horizontal rows adjacent to larger spines (2); leaf sheath spines not as above (3). (exilis)\n",
        "24. Leaf sheath spines of two kinds, one large, flat, straight, triangular, usually black or brown (sometimes these laciniate), the other shorter, needle-like, black, both kinds scattered or borne on short to long, horizontal to oblique, raised ridges (0); leaf sheath spines black or brown, needle-like, easily detached, borne on short to long, horizontal to oblique, raised ridges (1); leaf sheath spines not as above (2). (intersp)\n",
        "25. Leaf sheath spines fine, black or yellowish, needle-like, elongate, joined at their bases into short to long, horizontal collars, at least some adjacent collars pointing upwards and downwards and interlocking to form chambers (0); leaf sheath spines narrow, joined at their bases into short to long, oblique, non-interlocking, downward-pointing collars (1); leaf sheath spines fine, black, needle-like, elongate, with longer, flat, yellow or brownish spines present, joined at their bases into short to long, horizontal collars, at least some adjacent collars pointing upwards and downwards and interlocking to form chambers (2); leaf sheath spines fine, black or yellowish, needle-like, easily detached, joined at their bases into low, horizontal, non-interlocking, downward-pointing collars (3); leaf sheath spines fine, black or yellowish, needle-like, elongate, scarcely joined at their bases, arranged in short, horizontal rows (4); leaf sheath spines fine, black, needle-like, with briefly swollen bases, scattered or in small groups, easily detached and leaving swollen base only, sometimes with longer, wider spines present (5); leaf sheath spines fine, black, needle-like, with briefly swollen bases, scattered or in small groups, at least some spines confluent into wider spines (6); leaf sheath spines not as above (7). (horseh)\n",
        "26. Leaf sheath spines stout, flat, triangular, yellowish, often downward-pointing, often in horizontal rows but the bases not forming collars (0); leaf sheath spines stout, flat, triangular, yellowish or brownish, often in horizontal rows but the bases not forming collars, sometimes with low ridges adjacent to spines, sometimes the ridges with horizontal rows of needle-like spines (1); leaf sheath spines not as above (2). (ingens)\n",
        "27. Leaf sheath spines flattened, narrow to broad, scattered to dense, elastic, usually without a distinct groove adaxially at the base, sometimes joined into partial or complete rings, light brown, lighter brown at the base (0); leaf sheath spines not as above (1). (siphon)\n",
        "28. Leaf sheath spines minute, joined at their bases into horizontal or oblique, partial or complete rings, these covering all the sheath, usually with some larger spines present (0); leaf sheath spines not as above (1). (minute)\n",
        "29. Leaf sheaths spines flattened, yellowish-brown, upward pointing or horizontally spreading, borne in distinct, parallel, horizontal rows (0); leaf sheaths spines flattened, brown or black, horizontally spreading, borne in distinct, parallel, oblique rows (1); leaf sheath spines not as above (2). (moti)\n",
        "30. Leaf sheath spines short, needle-like, swollen-based, in small groups of 1 main spine and smaller lateral spines, especially near sheath apex (0); leaf sheath spines not as above (1). (spiral)\n",
        "31. Leaf sheath spines triangular, flattened, scattered or dense, often in horizontal rows, sometimes with adjacent horizontal rows of short spines present, easily breaking and detaching by a basal groove, sometimes covered with dense, long, brown hairs (0); leaf sheath spines triangular, flattened, scattered or dense, usually upward-pointing, easily breaking and detaching by a basal groove (1); leaf sheath spines not as above (2). (detach)\n",
        "32. Leaf sheaths with numerous spicules borne on short, low, horizontal ridges, easily detached and leaving the sheaths\n",
        "with ridges only, sometimes with larger spines present (0); leaf sheaths with numerous, scattered spicules, easily\n",
        "detached, sometimes with larger spines present (1); leaf sheaths not as above (2). (spicul)\n",
        "33. Leaf sheath spines absent (0); leaf sheath spines present (1). (nospin)\n",
        "34. Leaf sheath spines with the lateral margins oblique, extended downwards, sometimes into a low ridge (0); leaf\n",
        "sheath spines without oblique, extended lateral margins (1). (latmar)\n",
        "35. Leaf sheath spines markedly longer at sheath apex (0); leaf sheath spines markedly longer at sheath apex and there\n",
        "close, erect, usually flattened, forming a ‘fence’ around the apex, eventually detaching and leaving a row of stubs (1);\n",
        "A REVISION OF CALAMUS Phytotaxa 445 (1) © 2020 Magnolia Press • 481\n",
        "leaf sheath spines not markedly longer at sheath apex (2). (spines)\n",
        "36. Leaf sheaths without spines but with horizontal, partial or complete, reddish ridges (0); leaf sheaths without reddish\n",
        "ridges (1). (corrug)\n",
        "37. Ocreas short, densely spiny with short spines, these sometimes forming oblique rows (0); ocreas not as above (1).\n",
        "(ocrflo)\n",
        "38. Ocreas short to elongate, fibrous with net-like fibers, rarely merely a row of erect spinules, early decaying and\n",
        "deciduous, leaving an uneven abscission zone (0); ocreas not as above (1). (ocrpog)\n",
        "39. Ocreas developed either side of petiole only, resembling two lobes, densely spiny with long, erect spines along the\n",
        "margins (0); ocreas not as above (1). (ocrlep)\n",
        "40. Ocreas short, membranous, with a dense fringe of narrow, light brown hairs, extended into an acute apex above the\n",
        "petiole, splitting and falling early (0); ocreas not as above (1). (ocrlae)\n",
        "41. Ocreas short, membranous, usually not spiny, with external and internal abscission zone, splitting and falling early\n",
        "(0); ocreas not as above (1). (ocrdiv)\n",
        "42. Ocreas scarcely developed, densely covered with a fringe of short, erect, bulbous-based hairs (0); ocreas welldeveloped, densely covered with short, bulbous-based hairs (1); ocreas not as above (2). (ocrcil)\n",
        "43. Ocreas short to elongate, densely spiny with short, brown or black, erect spines (0); ocreas not as above (1).\n",
        "(ocrwal)\n",
        "44. Ocreas short, membranous, usually not spiny, forming an irregular ring but usually open or reduced above the\n",
        "petiole, splitting early (0); ocreas not as above (1). (ocrpoi)\n",
        "45. Ocreas short, membranous, usually not spiny, extended into an acute apex above the petiole, rarely elongate above\n",
        "petiole, splitting and falling early (0); ocreas not as above (1). (ocrpal)\n",
        "46. Ocreas well-developed, tubular, developed above the petiole but often open opposite the petiole, rounded or pointed\n",
        "at the apex, often swollen proximally, fibrous or papery, with a basal abscission zone, disintegrating early (0); ocreas\n",
        "moderately developed, open opposite the petiole and diverging away from the sheath, not disintegrating (1); ocreas\n",
        "well-developed, tubular initially, soon becoming fibrous, net-like, and funnel-shaped (2); ocreas not as above (3).\n",
        "(ocrlon)\n",
        "47. Ocreas short, tubular, truncate at the apex, usually densely spiny with erect spines, sometimes non-spiny (0); ocreas\n",
        "not as above (1). (ocrtru)\n",
        "48. Ocreas well-developed, not tubular, not developed above the petiole, densely covered with short spines, truncate at\n",
        "the apex, splitting lengthways and disintegrating early (0); ocreas not as above (1). (ocrset)\n",
        "49. Ocreas scarcely developed, with two low, lateral ridges either side of sheath, not developed above the petiole (0);\n",
        "ocreas well-developed, with two lateral flanges either side of sheath, not developed above the petiole (1); ocreas welldeveloped, with two lateral flanges either side of sheath, developed above the petiole and diverging away from the\n",
        "sheath above the petiole (2); ocreas not as above (3). (ocrerin)\n",
        "50. Ocreas ligule-like, often greatly extended, developed above the petiole only, spiny as the sheaths, with irregular,\n",
        "lighter colored, deciduous material along the margins (0); ocreas not as above (1). (ocrsip)\n",
        "51. Ocreas well-developed, tubular, developed above the petiole, truncate at the apex, splitting lengthways and\n",
        "disintegrating early (0); ocreas not as above (1). (ocrcon)\n",
        "52. Ocreas well-developed, moderate to elongate, membranous, brown, usually not spiny, splitting and falling early\n",
        "(0); ocreas not as above (1). (ocrgur)\n",
        "53. Ocreas brown, membranous, developed along leaf sheath margins, terminating in two short, narrow lobes on either\n",
        "side of petiole (0); ocreas brown, membranous, developed along leaf sheath margins, terminating in two prominent,\n",
        "erect, well-developed lobes on either side of petiole (1); ocreas not as above (2). (ocrper)\n",
        "54. Ocreas short, oblique, truncate, persistent, leathery, mottled as the sheaths, more or less persistent (0); ocreas not\n",
        "as above (1). (ocrrho)\n",
        "55. Ocreas short, membranous, brown, ribbed, tubular but irregular at the apex and usually longer opposite the petiole,\n",
        "with a fringe of narrow, erect, brown hairs at the apex, fragile and disintegrating early (0); ocreas not as above (1).\n",
        "(ocrjav)\n",
        "56. Ocreas short, prominent, well-developed above petiole, open opposite petiole, triangular and slightly diverging\n",
        "from sheath toward petiole (0); ocreas not as above (1). (ocrpse)\n",
        "57. Ocreas prominent, not spiny, coriaceous, well-developed above petiole, open opposite petiole, persistent (0); ocreas\n",
        "not as above (1). (ocrpip)\n",
        "58. Ocreas elongate, split into two narrow lobes either side of petiole, covered with long spicules (0); ocreas not as\n",
        "above (1). (ocrurs)\n",
        "59. Ocreas with a dense tuft of erect spines at the apex (0); ocreas without a tuft of erect spines at the apex (1).\n",
        "(ocrrha)\n",
        "60. Flagella well-developed (0); flagella absent (1); flagella vestigial (2). (flagel).\n",
        "Presence or absence of flagella is difficult to score, particularly in the case of cirrate species. These obviously lack a\n",
        "flagella, but this is seldom recorded on specimen labels. In these cases, flagella is not scored in the data matrix, but\n",
        "flagella are given as absent in the descriptions.\n",
        "61. Petioles and rachises with long, straight, yellowish or brownish, black-tipped, usually solitary spines abaxially and\n",
        "laterally (0); petioles and rachises without long, straight, spines abaxially and laterally (1). (rachis)\n",
        "62. Petioles and rachises with at least some long, straight, flat, usually grouped spines abaxially (0); petioles and\n",
        "rachises with whorls of long, straight, flat spines (1); rachises without long, straight, flat spines abaxially (2). (rachil)\n",
        "63. Rachises sparsely to densely covered with reddish-brown or brown, wooly hairs (0); rachises without wooly hairs\n",
        "(1). (wooly)\n",
        "64. Rachis apices filiform or sometimes just a short stub between the distal pair of pinnae (sometimes extended\n",
        "into a short subcirrus) (0); rachis apices extended into an elongate cirrus, adaxially convex or ridged, abaxially with\n",
        "mostly solitary, scattered, irregularly arranged spines, terminating in a narrow, flat stub (1); rachis apices extended\n",
        "into an elongate, rarely short cirrus, adaxially flat, abaxially with more or less regularly arranged (at least proximally),\n",
        "distantly spaced clusters of dark-tipped, recurved spines, terminating in a shallow groove adaxially (2); rachis apices\n",
        "extended into an elongate cirrus, usually with reduced or vestigial pinnae, adaxially flat, abaxially with more or less\n",
        "regularly arranged (at least proximally), distantly spaced clusters of dark-tipped, recurved spines, terminating in a\n",
        "shallow groove adaxially (3); rachis apices extended into an elongate cirrus, usually with reduced or vestigial pinnae,\n",
        "adaxially flat, abaxially with irregularly arranged, closely spaced, solitary or clustered dark-tipped, recurved spines,\n",
        "terminating in a shallow groove adaxially (4); rachis apices extended into an elongate cirrus, adaxially flat, abaxially\n",
        "with irregularly arranged, closely spaced, solitary or clustered dark-tipped, recurved spines, terminating in a shallow\n",
        "groove adaxially (5); rachis apices extended into a cirrus narrower than the rachis and not continuous with it adaxially,\n",
        "without vestigial pinnae, with scattered, solitary spines, terminating in a slender axis (6); rachis apices extended into\n",
        "an elongate cirrus, without reduced or vestigial pinnae, adaxially flat, abaxially with more or less regularly arranged\n",
        "(at least proximally), distantly spaced clusters of dark-tipped, recurved spines, terminating in a stub, without a shallow\n",
        "groove adaxially (7). (racir)\n",
        "65. Pinnae regularly arranged and spreading in the same plane (0); pinnae irregularly arranged, often in groups,\n",
        "sometimes spreading in different planes (1); pinnae arranged in remote clusters, the pinnae of a cluster spreading\n",
        "in different planes (2); pinnae regularly arranged but with gaps (3); pinnae arranged in divergent pairs (4); pinnae\n",
        "arranged in a fan shape on a scarcely developed rachis (5). (pinnae)\n",
        "66. Pinnae elliptic, sometimes oblanceolate or mucronate, usually without spinules on veins adaxially or abaxially,\n",
        "the lateral veins diverging then converging, both terminating apically or slightly subapically (0); pinnae linear to\n",
        "lanceolate, usually with spinules on veins adaxially and/or abaxially, the lateral veins approximately parallel, one\n",
        "terminating subapically, leaving a distinct or obscure, adaxial ‘broken’ vein (1); pinnae oblanceolate, with truncate,\n",
        "praemorse apices, with spinules on veins (2); pinnae broadly elliptic to rhombic, the lateral veins diverging and not\n",
        "reaching pinna apex, without spinules on veins (3); pinnae rhombic, the lateral veins diverging, the two distal margins\n",
        "praemorse, without spinules on veins (4). (pinsha)\n",
        "67. Pinnae divaricate, especially distal ones and distal pair (0); pinnae not divaricate (1). (divari)\n",
        "68. Pinnae thick and leathery with prominent cross-veins (0); pinnae not thick and leathery (1). (insign)\n",
        "69. Pinnae with numerous, minute hairs abaxially (0); pinnae with numerous, minute hairs adaxially and abaxially (1);\n",
        "pinnae without numerous minute hairs (2). (hairy)\n",
        "70. Pinnae densely spinulose abaxially (0); pinnae with many, closely spaced spinules on mid-vein abaxially and\n",
        "fewer, distantly spaced spinules on lateral veins (1); pinnae not densely spinulose abaxially (2). (specta)\n",
        "71. Pinnae grayish-white, dull gray, or brownish indumentose abaxially (0); pinnae waxy abaxially (1); pinnae not\n",
        "indumentose or waxy abaxially (2). (grayis)\n",
        "72. Pinnae with few to numerous, small, brown scales abaxially (0); pinnae without small, brown scales abaxially (1).\n",
        "(erinac)\n",
        "73. Pinnae bases abaxially sparsely to densely covered with reddish-brown or brown, wooly hairs (0); pinnae bases\n",
        "abaxially without reddish-brown hairs (1). (reddis)\n",
        "74. Pinnae bases (and adjacent rachis) adaxially with a tuft of short spinules (0); pinnae bases adaxially without a tuft\n",
        "of short spinules (1). (tufted)\n",
        "75. Pinnae midvein and distal lateral vein usually raised and spinulose adaxially, the proximal lateral vein scarcely raised and usually not spinulose adaxially (0) pinnae midvein and lateral veins equally raised (1). (phvein)\n",
        "76. Proximalmost pinnae swept back across the sheath (on adult plants only) (0); proximalmost pinnae not swept back\n",
        "across the sheath (1). (sweptb)\n",
        "77. Proximalmost pinnae much reduced (0); proximalmost pinnae not much reduced (1). (proxim)\n",
        "78. Distalmost pinnae much reduced (0); distalmost pinnae not much reduced (1). (distal)\n",
        "79. Distalmost few (usually 4) pinnae in a close group, the distalmost pair joined for much of their length and oriented\n",
        "in line with the rachis, the adjacent pair oriented at approximately 45º angle to the rachis (0); distalmost pinnae not\n",
        "arranged in a close group (1). (pinfew)\n",
        "80. Inflorescences produced sequentially over the life of the stem (0); inflorescences produced simultaneously at the\n",
        "end of the life of the stem (1). (semelp)\n",
        "81. Inflorescences forming new plants at the apex (0); inflorescences not forming new plants at the apex (1). (rootin)\n",
        "82. Inflorescences diverging from sheath well below sheath apex, with two vertical ridges distal to point of divergence\n",
        "(0); inflorescences diverging from sheath near sheath apex, with two diverging ridges distal to point of divergence (1).\n",
        "(infpos)\n",
        "83. Inflorescences erect to arching, short, without any recurved spines, terminating in a short, obscure stub (0);\n",
        "inflorescences not as above (1). (infdae)\n",
        "84. Inflorescences arching, slender, elongate, with solitary or grouped, recurved spines on rachis and rachis bracts\n",
        "abaxially, usually terminating in a flagellum-like apex (0); inflorescences not as above (1). (inflag)\n",
        "85. Inflorescences erect to arching, slender, short to elongate, with or without recurved spines on rachis and rachis\n",
        "bracts abaxially, without a flagellum-like apex (0); inflorescences not as above (1). (infall)\n",
        "86. Inflorescences erect or somewhat arching, somewhat congested, with few or without recurved spines, terminating\n",
        "in a vestigial flagellum (0); inflorescences not as above (1) (infper)\n",
        "87. Inflorescences arching, somewhat congested, not elongate nor flagellate, the rachises not visible, completely\n",
        "covered by rachis bracts, terminating in a short structure in line with the main inflorescence axis and covered with\n",
        "overlapping bracts (0); inflorescences not as above (1). (inferi)\n",
        "88. Inflorescences arching, somewhat congested, not elongate nor flagellate, terminating in a short, flat structure\n",
        "diverging from the main inflorescence axis (0); inflorescences not as above (1). (infpal)\n",
        "89. Inflorescences arching, slender, elongate, usually without recurved spines, terminating in a long, tubular structure\n",
        "in line with the main inflorescence axis and covered with overlapping bracts (0); inflorescences not as above (1).\n",
        "(infaru)\n",
        "90. Peduncles usually elongate, erect, flattened in cross-section, non-spiny or sparsely spiny, the prophyll scar at the\n",
        "apex with wide ‘shoulders’, the first partial inflorescence inserted directly above the scar (rarely not directly above)\n",
        "(0); peduncles elongate, erect, flattened in cross-section, non-spiny or sparsely spiny, with an obscure prophyll scar at\n",
        "the apex, the first partial inflorescence inserted directly above the scar (1); peduncles short (rarely elongate), erect or\n",
        "curving, not flattened in cross-section, often densely spiny, the prophyll scar at the apex without wide ‘shoulders’, the\n",
        "first partial inflorescence not inserted directly above the scar (2); peduncles very short, not spiny, without a prophyll\n",
        "scar at the apex (3); peduncles long, slender, pendulous, not or sparsely spiny, without a prophyll scar at the apex (4);\n",
        "peduncles short, erect, flattened in cross-section, non-spiny or sparsely spiny, the prophyll scar at the apex with wide\n",
        "‘shoulders’, the first partial inflorescence inserted directly above the scar (5); peduncles scarcely developed above\n",
        "point of divergence (6). (pedunc)\n",
        "91. Prophylls tubular, persistent, splitting to the base, with an abruptly narrowed, elongate, spiny apex (0); prophylls\n",
        "tubular, persistent, usually splitting only at the apex, rarely splitting but remaining tubular at the base (1); prophylls\n",
        "tubular, usually splitting to the base, early deciduous or semi-persistent (2); prophylls swollen, persistent, splitting to\n",
        "the base, the apex enclosing the tips of the rachis bracts (at least initially) (3); prophylls flattened, persistent, usually\n",
        "non-spiny, splitting only at the apex by two short, lateral splits (4); prophylls swollen, persistent, splitting to the base\n",
        "(5); prophylls absent (6). (prophy)\n",
        "92. Prophylls (including flagella prophylls) with flat, yellowish-brown spines at the apex (0); prophylls without flat\n",
        "spines at the apex (1). (murpro)\n",
        "93. Partial inflorescences stalked with the stalk parallel to the rachis and nested within the concave rachis surface,\n",
        "obscured by the rachis bract, without a pulvinus in axil of rachis and stalk (0); partial inflorescences not or rarely\n",
        "stalked, with or rarely without a pulvinus in axil of rachis and partial inflorescence (1). (pedice)\n",
        "94. Partial inflorescences recurved with elongate rachis bracts and short, funnel-shaped, equally long rachillasubtending bracts (i.e., rachis bracts and rachilla-subtending bracts strongly dimorphic) (0); partial inflorescences not\n",
        "as above (1). (piviti)"
      ],
      "metadata": {
        "id": "QCkvEmuO8Qns"
      },
      "execution_count": null,
      "outputs": []
    }
  ]
}